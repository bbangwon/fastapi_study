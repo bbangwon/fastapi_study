{
 "cells": [
  {
   "cell_type": "markdown",
   "id": "6a8994a1",
   "metadata": {},
   "source": [
    "nest_asyncio는 Python의 asyncio 라이브러리에서 이벤트 루프를 중첩해서 사용할 수 있도록 도와주는 라이브러리입니다.\n",
    "\n",
    "기본적으로 Python의 asyncio는 한 번 실행된 이벤트 루프를 다시 실행하려고 하면 오류를 발생시킵니다. 예를 들어, Jupyter Notebook 같은 환경에서는 이미 실행 중인 이벤트 루프가 있기 때문에, 새로운 비동기 작업을 실행하려고 하면 문제가 생길 수 있습니다.\n",
    "\n",
    "nest_asyncio는 이런 문제를 해결하기 위해 기존 이벤트 루프를 패치하여, 이미 실행 중인 이벤트 루프에서도 추가적인 비동기 작업을 실행할 수 있도록 만들어줍니다.\n",
    "\n",
    "간단한 비유:\n",
    "기본 asyncio: \"이미 도로에 차가 달리고 있으니, 새로운 차를 추가로 못 올려!\"\n",
    "nest_asyncio: \"도로를 확장해서 새로운 차도 추가로 달릴 수 있게 만들었어!\""
   ]
  },
  {
   "cell_type": "code",
   "execution_count": 1,
   "id": "9d65f28b",
   "metadata": {},
   "outputs": [],
   "source": [
    "import nest_asyncio\n",
    "nest_asyncio.apply()"
   ]
  },
  {
   "cell_type": "code",
   "execution_count": 2,
   "id": "a0724169",
   "metadata": {},
   "outputs": [],
   "source": [
    "from fastapi import FastAPI\n",
    "\n",
    "app = FastAPI()\n",
    "\n",
    "@app.get(\"/\")\n",
    "def hello():\n",
    "    return {\"message\": \"Hello World\"}"
   ]
  },
  {
   "cell_type": "code",
   "execution_count": 24,
   "id": "f31c7168",
   "metadata": {},
   "outputs": [
    {
     "name": "stderr",
     "output_type": "stream",
     "text": [
      "INFO:     Started server process [1594]\n",
      "INFO:     Waiting for application startup.\n",
      "INFO:     Application startup complete.\n",
      "INFO:     Uvicorn running on http://127.0.0.1:8000 (Press CTRL+C to quit)\n",
      "INFO:     Shutting down\n",
      "INFO:     Waiting for application shutdown.\n",
      "INFO:     Application shutdown complete.\n",
      "INFO:     Finished server process [1594]\n"
     ]
    }
   ],
   "source": [
    "import uvicorn\n",
    "uvicorn.run(app)"
   ]
  },
  {
   "cell_type": "markdown",
   "id": "6fed6333",
   "metadata": {},
   "source": [
    "# Database 설정 파일 추가"
   ]
  },
  {
   "cell_type": "code",
   "execution_count": null,
   "id": "2845a8c5",
   "metadata": {},
   "outputs": [],
   "source": [
    "from sqlalchemy import create_engine\n",
    "from sqlalchemy.ext.declarative import declarative_base\n",
    "from sqlalchemy.orm import sessionmaker\n",
    "\n",
    "SQLALCHEMY_DATABASE_URL = \"sqlite:///./myapi.db\"\n",
    "\n",
    "engine = create_engine(\n",
    "    SQLALCHEMY_DATABASE_URL, connect_args={\"check_same_thread\": False}\n",
    ")\n",
    "SessionLocal = sessionmaker(autocommit=False, autoflush=False, bind=engine)\n",
    "\n",
    "Base = declarative_base()"
   ]
  },
  {
   "cell_type": "markdown",
   "id": "c9a466f6",
   "metadata": {},
   "source": [
    "이 코드는 Python의 SQLAlchemy 라이브러리를 사용하여 데이터베이스와 상호작용하기 위한 설정을 정의합니다. SQLAlchemy는 Python에서 데이터베이스 작업을 쉽게 처리할 수 있도록 도와주는 강력한 ORM(Object Relational Mapper) 도구입니다. 아래는 코드의 각 부분에 대한 설명입니다.\n",
    "\n",
    "---\n",
    "\n",
    "1. **필요한 모듈 임포트**  \n",
    "   첫 번째로, `sqlalchemy` 라이브러리에서 필요한 구성 요소를 가져옵니다.  \n",
    "   - `create_engine`: 데이터베이스와의 연결을 생성하는 데 사용됩니다.  \n",
    "   - `declarative_base`: ORM에서 데이터베이스 테이블을 Python 클래스와 매핑하기 위한 기본 클래스입니다.  \n",
    "   - `sessionmaker`: 데이터베이스 세션을 생성하고 관리하는 데 사용됩니다.\n",
    "\n",
    "---\n",
    "\n",
    "2. **데이터베이스 URL 설정**  \n",
    "   `SQLALCHEMY_DATABASE_URL` 변수는 데이터베이스 연결 문자열을 정의합니다. 여기서는 SQLite 데이터베이스를 사용하며, 파일 이름은 `myapi.db`입니다. SQLite는 파일 기반 데이터베이스로, 간단한 프로젝트에 적합합니다.\n",
    "\n",
    "---\n",
    "\n",
    "3. **데이터베이스 엔진 생성**  \n",
    "   `create_engine` 함수는 데이터베이스와의 연결을 처리하는 엔진 객체를 생성합니다.  \n",
    "   - `SQLALCHEMY_DATABASE_URL`을 사용하여 데이터베이스 위치를 지정합니다.  \n",
    "   - `connect_args={\"check_same_thread\": False}`는 SQLite에서 멀티스레드 환경에서도 동일한 연결을 사용할 수 있도록 설정합니다. 이는 SQLite의 기본 동작을 변경하는 옵션입니다.\n",
    "\n",
    "---\n",
    "\n",
    "4. **세션 로컬 생성**  \n",
    "   `SessionLocal`은 데이터베이스 세션을 생성하는 팩토리 함수입니다.  \n",
    "   - `autocommit=False`: 세션에서 변경 사항을 명시적으로 커밋해야 합니다.  \n",
    "   - `autoflush=False`: 세션이 자동으로 변경 사항을 데이터베이스에 반영하지 않습니다.  \n",
    "   - `bind=engine`: 이 세션이 위에서 생성한 데이터베이스 엔진과 연결되도록 설정합니다.\n",
    "\n",
    "---\n",
    "\n",
    "5. **기본 클래스 정의**  \n",
    "   `Base = declarative_base()`는 ORM에서 사용할 기본 클래스를 생성합니다. 이 클래스는 이후 데이터베이스 테이블과 매핑될 모든 모델 클래스의 부모 클래스 역할을 합니다.\n",
    "\n",
    "---\n",
    "\n",
    "이 코드는 데이터베이스와 상호작용하기 위한 기본 설정을 정의하며, 이후 데이터베이스 모델을 생성하거나 데이터를 삽입/조회하는 데 사용됩니다. 이 구조는 SQLAlchemy를 사용하는 대부분의 프로젝트에서 공통적으로 사용되는 초기 설정입니다."
   ]
  },
  {
   "cell_type": "code",
   "execution_count": null,
   "id": "4e4d5de6",
   "metadata": {},
   "outputs": [],
   "source": [
    "from sqlalchemy import Column, Integer, String, Text, DateTime, ForeignKey\n",
    "from sqlalchemy.orm import relationship\n",
    "\n",
    "class Question(Base):\n",
    "    __tablename__ = \"questions\"\n",
    "\n",
    "    id = Column(Integer, primary_key=True)\n",
    "    subject = Column(String, nullable=False)\n",
    "    content = Column(Text, nullable=False)\n",
    "    create_date = Column(DateTime, nullable=False)\n",
    "\n",
    "class Answer(Base):\n",
    "    __tablename__ = \"answers\"\n",
    "\n",
    "    id = Column(Integer, primary_key=True)\n",
    "    content = Column(Text, nullable=False)\n",
    "    create_date = Column(DateTime, nullable=False)\n",
    "    question_id = Column(Integer, ForeignKey(\"questions.id\"))\n",
    "    question = relationship(\"Question\", backref=\"answers\")\n",
    "    "
   ]
  },
  {
   "cell_type": "markdown",
   "id": "a3bf8e93",
   "metadata": {},
   "source": [
    "위의 코드는 SQLAlchemy를 사용하여 데이터베이스 테이블과 열(column), 그리고 외래 키(foreign key)를 정의하고 관리하는 데 필요한 클래스와 함수들을 포함하고 있습니다. SQLAlchemy는 Python에서 데이터베이스와 상호작용하기 위한 강력한 ORM(Object Relational Mapping) 라이브러리로, 이 코드는 데이터베이스 테이블의 스키마를 정의하고 관계를 설정하는 데 사용됩니다.\n",
    "\n",
    "### `Answer` 클래스\n",
    "`Answer` 클래스는 SQLAlchemy의 ORM을 사용하여 데이터베이스 테이블을 정의한 예입니다. 이 클래스는 `Base` 클래스를 상속받으며, `__tablename__` 속성을 통해 데이터베이스 테이블 이름을 `\"answers\"`로 지정합니다. 이 클래스는 다음과 같은 열을 정의합니다:\n",
    "- `id`: 기본 키로 사용되는 정수형 열.\n",
    "- `content`: 텍스트 데이터를 저장하며, `nullable=False`로 설정되어 있어 값이 반드시 있어야 합니다.\n",
    "- `create_date`: 답변이 생성된 날짜와 시간을 저장하는 `DateTime` 열.\n",
    "- `question_id`: 외래 키로, `\"questions\"` 테이블의 `id` 열을 참조합니다.\n",
    "- `question`: `relationship`을 통해 `Question` 클래스와의 관계를 설정하며, `backref`를 사용하여 `answers`라는 역참조를 제공합니다.\n",
    "\n",
    "### `relationship` 함수\n",
    "`relationship` 함수는 SQLAlchemy에서 두 테이블 간의 관계를 정의하는 데 사용됩니다. 이 함수는 부모-자식 관계 또는 다대다 관계를 설정할 수 있습니다. 예를 들어, `Answer` 클래스에서 `question` 속성은 `Question` 클래스와의 관계를 나타냅니다. `backref` 매개변수를 통해 `Question` 클래스에서 `answers`라는 속성을 자동으로 생성하여 양방향 관계를 설정합니다. 이 함수는 다양한 매개변수를 지원하며, 관계의 로딩 전략(`lazy`), 삭제 시 동작(`cascade`), 정렬 순서(`order_by`) 등을 세부적으로 제어할 수 있습니다.\n",
    "\n",
    "### `Column` 클래스\n",
    "`Column` 클래스는 데이터베이스 테이블의 열을 나타냅니다. 이 클래스는 열의 이름, 데이터 타입, 기본값, 고유성, 인덱스 여부 등을 정의할 수 있습니다. 예를 들어, `id` 열은 `primary_key=True`로 설정되어 기본 키로 지정되며, `content` 열은 `nullable=False`로 설정되어 값이 반드시 필요합니다. 또한, `ForeignKey` 객체를 사용하여 다른 테이블의 열을 참조할 수 있습니다.\n",
    "\n",
    "### `ForeignKey` 클래스\n",
    "`ForeignKey` 클래스는 열 간의 외래 키 관계를 정의합니다. 예를 들어, `question_id` 열은 `ForeignKey(\"questions.id\")`를 통해 `\"questions\"` 테이블의 `id` 열을 참조합니다. 이 클래스는 외래 키 제약 조건을 설정하며, `ondelete`, `onupdate`와 같은 매개변수를 통해 삭제 및 업데이트 시의 동작을 제어할 수 있습니다.\n",
    "\n",
    "### 주요 동작\n",
    "이 코드의 주요 동작은 데이터베이스 테이블과 열을 정의하고, 테이블 간의 관계를 설정하며, 외래 키를 통해 참조 무결성을 유지하는 것입니다. SQLAlchemy는 이러한 정의를 기반으로 데이터베이스 스키마를 생성하거나, ORM을 통해 Python 객체와 데이터베이스 간의 매핑을 제공합니다. 이를 통해 개발자는 SQL 쿼리를 직접 작성하지 않고도 데이터베이스와 상호작용할 수 있습니다."
   ]
  },
  {
   "cell_type": "markdown",
   "id": "6fec50dc",
   "metadata": {},
   "source": [
    "# alembic\n",
    "Alembic은 Python의 데이터베이스 마이그레이션 도구로, SQLAlchemy와 함께 사용하여 데이터베이스 스키마를 관리하고 버전 관리를 수행할 수 있습니다."
   ]
  },
  {
   "cell_type": "markdown",
   "id": "076c651d",
   "metadata": {},
   "source": [
    "아래 파일들을 수정합니다.\n",
    "\n",
    "[alembic.ini]\n",
    "sqlalchemy.url = sqlite:///./myapi.db\n",
    "\n",
    "[migrations/env.py]\n",
    "import models\n",
    "\n",
    "target_metadata = models.Base.metadata"
   ]
  },
  {
   "cell_type": "markdown",
   "id": "b260813c",
   "metadata": {},
   "source": [
    "### 마이그레이션 파일 생성\n",
    "새로운 데이터베이스 변경 사항(예: 테이블 추가, 수정)을 반영하기 위해 마이그레이션 파일을 생성합니다.\n",
    "\n",
    "--autogenerate 옵션은 SQLAlchemy의 Base.metadata를 기반으로 변경 사항을 자동으로 감지합니다.\n",
    "생성된 파일은 versions/ 디렉토리에 저장됩니다.\n",
    "\n",
    "alembic revision --autogenerate\n",
    "\n",
    "### 리비전 파일 실행\n",
    "\n",
    "alembic upgrade head"
   ]
  },
  {
   "cell_type": "code",
   "execution_count": 16,
   "id": "b0b0f661",
   "metadata": {},
   "outputs": [],
   "source": [
    "from models import Question, Answer\n",
    "from datetime import datetime\n",
    "from database import SessionLocal\n",
    "\n",
    "db = SessionLocal()"
   ]
  },
  {
   "cell_type": "code",
   "execution_count": 17,
   "id": "cc32a3bb",
   "metadata": {},
   "outputs": [
    {
     "data": {
      "text/plain": [
       "1"
      ]
     },
     "execution_count": 17,
     "metadata": {},
     "output_type": "execute_result"
    }
   ],
   "source": [
    "# 데이터 넣기\n",
    "q = Question(subject='pybo가 무엇인가요?', content='pybo에 대해서 알고 싶습니다.', create_date=datetime.now())\n",
    "db.add(q)\n",
    "db.commit()\n",
    "\n",
    "q.id"
   ]
  },
  {
   "cell_type": "code",
   "execution_count": 18,
   "id": "584d34ef",
   "metadata": {},
   "outputs": [
    {
     "data": {
      "text/plain": [
       "2"
      ]
     },
     "execution_count": 18,
     "metadata": {},
     "output_type": "execute_result"
    }
   ],
   "source": [
    "q = Question(subject='FastAPI 모델 질문입니다.', content='id는 자동으로 생성되나요?', create_date=datetime.now())\n",
    "db.add(q)\n",
    "db.commit()\n",
    "\n",
    "q.id"
   ]
  },
  {
   "cell_type": "code",
   "execution_count": 19,
   "id": "9fa8b979",
   "metadata": {},
   "outputs": [
    {
     "data": {
      "text/plain": [
       "[<models.Question at 0x10e60a450>, <models.Question at 0x10da1ac40>]"
      ]
     },
     "execution_count": 19,
     "metadata": {},
     "output_type": "execute_result"
    }
   ],
   "source": [
    "# 데이터 조회하기\n",
    "db.query(Question).all()"
   ]
  },
  {
   "cell_type": "code",
   "execution_count": 20,
   "id": "baf15635",
   "metadata": {},
   "outputs": [
    {
     "data": {
      "text/plain": [
       "[<models.Question at 0x10e60a450>]"
      ]
     },
     "execution_count": 20,
     "metadata": {},
     "output_type": "execute_result"
    }
   ],
   "source": [
    "# filter 함수 이용한 질문\n",
    "db.query(Question).filter(Question.id == 1).all()"
   ]
  },
  {
   "cell_type": "code",
   "execution_count": 21,
   "id": "b06d9e83",
   "metadata": {},
   "outputs": [
    {
     "data": {
      "text/plain": [
       "<models.Question at 0x10e60a450>"
      ]
     },
     "execution_count": 21,
     "metadata": {},
     "output_type": "execute_result"
    }
   ],
   "source": [
    "# id는 유일한 값이므로 get 함수를 이용해 조회할 수도 있음\n",
    "db.get(Question, 1)"
   ]
  },
  {
   "cell_type": "code",
   "execution_count": 22,
   "id": "a126bd31",
   "metadata": {},
   "outputs": [
    {
     "data": {
      "text/plain": [
       "[<models.Question at 0x10da1ac40>]"
      ]
     },
     "execution_count": 22,
     "metadata": {},
     "output_type": "execute_result"
    }
   ],
   "source": [
    "# Like 검색\n",
    "db.query(Question).filter(Question.subject.like('%FastAPI%')).all()"
   ]
  },
  {
   "cell_type": "markdown",
   "id": "4d940d86",
   "metadata": {},
   "source": [
    "- 데이터를 조회하는 다양한 사용법\n",
    "- https://docs.sqlalchemy.org/en/14/orm/query.html"
   ]
  },
  {
   "cell_type": "code",
   "execution_count": 23,
   "id": "752e00e7",
   "metadata": {},
   "outputs": [],
   "source": [
    "# 데이터 수정하기\n",
    "q = db.get(Question, 2)\n",
    "q.subject = 'FastAPI Model Question'\n",
    "db.commit()\n"
   ]
  },
  {
   "cell_type": "code",
   "execution_count": 24,
   "id": "db5d59ca",
   "metadata": {},
   "outputs": [],
   "source": [
    "# 데이터 삭제하기\n",
    "q = db.get(Question, 1)\n",
    "db.delete(q)\n",
    "db.commit()"
   ]
  },
  {
   "cell_type": "code",
   "execution_count": 25,
   "id": "bdbaab92",
   "metadata": {},
   "outputs": [
    {
     "data": {
      "text/plain": [
       "[<models.Question at 0x10da1ac40>]"
      ]
     },
     "execution_count": 25,
     "metadata": {},
     "output_type": "execute_result"
    }
   ],
   "source": [
    "db.query(Question).all()"
   ]
  },
  {
   "cell_type": "code",
   "execution_count": 26,
   "id": "7362493f",
   "metadata": {},
   "outputs": [],
   "source": [
    "# 답변 데이터 저장하기\n",
    "q = db.get(Question, 2)\n",
    "a = Answer(question=q, content='네 자동으로 생성됩니다.', create_date=datetime.now())\n",
    "db.add(a)\n",
    "db.commit()"
   ]
  },
  {
   "cell_type": "code",
   "execution_count": 27,
   "id": "4bc5312a",
   "metadata": {},
   "outputs": [
    {
     "data": {
      "text/plain": [
       "1"
      ]
     },
     "execution_count": 27,
     "metadata": {},
     "output_type": "execute_result"
    }
   ],
   "source": [
    "a.id"
   ]
  },
  {
   "cell_type": "code",
   "execution_count": 28,
   "id": "329613cf",
   "metadata": {},
   "outputs": [
    {
     "data": {
      "text/plain": [
       "<models.Question at 0x10da1ac40>"
      ]
     },
     "execution_count": 28,
     "metadata": {},
     "output_type": "execute_result"
    }
   ],
   "source": [
    "a.question"
   ]
  },
  {
   "cell_type": "code",
   "execution_count": 29,
   "id": "9d850998",
   "metadata": {},
   "outputs": [
    {
     "data": {
      "text/plain": [
       "[<models.Answer at 0x10da1a9e0>]"
      ]
     },
     "execution_count": 29,
     "metadata": {},
     "output_type": "execute_result"
    }
   ],
   "source": [
    "q.answers"
   ]
  },
  {
   "cell_type": "markdown",
   "id": "a53c85c1",
   "metadata": {},
   "source": [
    "# 라우터\n",
    "- FastAPI가 요청받은 URL을 해석하여 그에 맞는 함수를 실행하여 그 결과를 리턴하는 행위를 말합니다."
   ]
  },
  {
   "cell_type": "code",
   "execution_count": 5,
   "id": "ab70df6e",
   "metadata": {},
   "outputs": [],
   "source": [
    "from fastapi import APIRouter\n",
    "\n",
    "from database import SessionLocal\n",
    "from models import Question\n",
    "\n",
    "router = APIRouter(\n",
    "    prefix=\"/api/question\",\n",
    ")\n",
    "\n",
    "@router.get(\"/list\")\n",
    "def question_list():\n",
    "    db = SessionLocal()\n",
    "    questions = db.query(Question).order_by(Question.create_date.desc()).all()\n",
    "    db.close()\n",
    "    return questions\n"
   ]
  },
  {
   "cell_type": "code",
   "execution_count": 6,
   "id": "22bd8a7e",
   "metadata": {},
   "outputs": [],
   "source": [
    "from fastapi import FastAPI\n",
    "from fastapi.middleware.cors import CORSMiddleware \n",
    "from domain.question import question_router\n",
    "\n",
    "app = FastAPI()\n",
    "\n",
    "origins = [\n",
    "    \"http://localhost:5173\",\n",
    "]\n",
    "\n",
    "app.add_middleware(\n",
    "    CORSMiddleware,\n",
    "    allow_origins=origins,\n",
    "    allow_credentials=True,\n",
    "    allow_methods=[\"*\"],\n",
    "    allow_headers=[\"*\"],\n",
    ")\n",
    "\n",
    "app.include_router(question_router.router)\n"
   ]
  },
  {
   "cell_type": "code",
   "execution_count": 8,
   "id": "1ee28eb2",
   "metadata": {},
   "outputs": [
    {
     "name": "stderr",
     "output_type": "stream",
     "text": [
      "INFO:     Started server process [1594]\n",
      "INFO:     Waiting for application startup.\n",
      "INFO:     Application startup complete.\n",
      "INFO:     Uvicorn running on http://127.0.0.1:8000 (Press CTRL+C to quit)\n"
     ]
    },
    {
     "name": "stdout",
     "output_type": "stream",
     "text": [
      "INFO:     127.0.0.1:50376 - \"GET /docs HTTP/1.1\" 200 OK\n",
      "INFO:     127.0.0.1:50376 - \"GET /openapi.json HTTP/1.1\" 200 OK\n",
      "INFO:     127.0.0.1:50377 - \"GET / HTTP/1.1\" 404 Not Found\n",
      "INFO:     127.0.0.1:50377 - \"GET /docs HTTP/1.1\" 200 OK\n",
      "INFO:     127.0.0.1:50377 - \"GET /openapi.json HTTP/1.1\" 200 OK\n"
     ]
    },
    {
     "name": "stderr",
     "output_type": "stream",
     "text": [
      "INFO:     Shutting down\n",
      "INFO:     Waiting for application shutdown.\n",
      "INFO:     Application shutdown complete.\n",
      "INFO:     Finished server process [1594]\n"
     ]
    }
   ],
   "source": [
    "import uvicorn\n",
    "uvicorn.run(app)"
   ]
  },
  {
   "cell_type": "markdown",
   "id": "45dc34ed",
   "metadata": {},
   "source": [
    "### 테스트\n",
    "- http://127.0.0.1:8000/docs"
   ]
  },
  {
   "cell_type": "markdown",
   "id": "d872fc7b",
   "metadata": {},
   "source": [
    "# 의존성 주입\n",
    "### 데이터베이스 세션의 생성과 반환을 자동화하기\n",
    "- db세션 객체를 생성한 후에 db.close()를 수행하지 않으면 SQLAlchemy가 사용하는 커넥션 풀에 db세션이 반환되지 않아 문제가 생깁니다.\n",
    "- 프로그래밍에서 의존성 주입의 뜻은 필요한 기능을 선언하여 사용할 수 있다는 의미입니다."
   ]
  },
  {
   "cell_type": "markdown",
   "id": "e97f01e5",
   "metadata": {},
   "source": [
    "## Contextmanager 사용"
   ]
  },
  {
   "cell_type": "code",
   "execution_count": 14,
   "id": "97d00aa7",
   "metadata": {},
   "outputs": [],
   "source": [
    "import contextlib\n",
    "\n",
    "from sqlalchemy import create_engine\n",
    "from sqlalchemy.orm import sessionmaker, declarative_base\n",
    "\n",
    "SQLALCHEMY_DATABASE_URL = \"sqlite:///./myapi.db\"\n",
    "\n",
    "engine = create_engine(\n",
    "    SQLALCHEMY_DATABASE_URL, connect_args={\"check_same_thread\": False}\n",
    ")\n",
    "SessionLocal = sessionmaker(autocommit=False, autoflush=False, bind=engine)\n",
    "\n",
    "Base = declarative_base()\n",
    "\n",
    "@contextlib.contextmanager\n",
    "def get_db():\n",
    "    db = SessionLocal()\n",
    "    try:\n",
    "        yield db\n",
    "    finally:\n",
    "        db.close()\n"
   ]
  },
  {
   "cell_type": "markdown",
   "id": "80359a80",
   "metadata": {},
   "source": [
    "### 제너레이터란?\n",
    "- https://wikidocs.net/134909"
   ]
  },
  {
   "cell_type": "code",
   "execution_count": 23,
   "id": "d8f4780c",
   "metadata": {},
   "outputs": [],
   "source": [
    "from fastapi import APIRouter\n",
    "\n",
    "# from database import get_db\n",
    "from models import Question\n",
    "\n",
    "router = APIRouter(\n",
    "    prefix=\"/api/question\",\n",
    ")\n",
    "\n",
    "@router.get(\"/list\")\n",
    "def question_list():\n",
    "    with get_db() as db:\n",
    "        questions = db.query(Question).order_by(Question.create_date.desc()).all()            \n",
    "    return questions\n"
   ]
  },
  {
   "cell_type": "code",
   "execution_count": 27,
   "id": "f5c8a3a7",
   "metadata": {},
   "outputs": [
    {
     "name": "stderr",
     "output_type": "stream",
     "text": [
      "INFO:     Started server process [1594]\n",
      "INFO:     Waiting for application startup.\n",
      "INFO:     Application startup complete.\n",
      "INFO:     Uvicorn running on http://127.0.0.1:8000 (Press CTRL+C to quit)\n"
     ]
    },
    {
     "name": "stdout",
     "output_type": "stream",
     "text": [
      "INFO:     127.0.0.1:50639 - \"GET /docs HTTP/1.1\" 200 OK\n",
      "INFO:     127.0.0.1:50639 - \"GET /openapi.json HTTP/1.1\" 200 OK\n",
      "INFO:     127.0.0.1:50639 - \"GET /api/question/list HTTP/1.1\" 200 OK\n"
     ]
    },
    {
     "name": "stderr",
     "output_type": "stream",
     "text": [
      "INFO:     Shutting down\n",
      "INFO:     Waiting for application shutdown.\n",
      "INFO:     Application shutdown complete.\n",
      "INFO:     Finished server process [1594]\n"
     ]
    }
   ],
   "source": [
    "import uvicorn\n",
    "uvicorn.run(app)"
   ]
  },
  {
   "cell_type": "markdown",
   "id": "c379811d",
   "metadata": {},
   "source": [
    "### 테스트\n",
    "- http://127.0.0.1:8000/docs"
   ]
  },
  {
   "cell_type": "markdown",
   "id": "0ea270a2",
   "metadata": {},
   "source": [
    "### Depends 사용하기\n",
    "- FastAPI의 Depends를 사용하면 with문을 사용하는 것 보다 더 간단하게 사용할 수 있습니다.\n",
    "- FastAPI는 제네레이터 기반 함수를 직접 지원하며, 자동으로 리소스 관리를 처리합니다.\n",
    "- @contextlib.contextmanager를 사용하면 get_db 함수가 context_GeneratorContextManager 객체를 반환하게 되어 종속성 주입이 제대로 동작하지 않습니다.\n",
    "- 어노테이션을 제거해야 합니다."
   ]
  },
  {
   "cell_type": "code",
   "execution_count": 30,
   "id": "0d91b556",
   "metadata": {},
   "outputs": [],
   "source": [
    "from sqlalchemy import create_engine\n",
    "from sqlalchemy.orm import sessionmaker, declarative_base\n",
    "\n",
    "SQLALCHEMY_DATABASE_URL = \"sqlite:///./myapi.db\"\n",
    "\n",
    "engine = create_engine(\n",
    "    SQLALCHEMY_DATABASE_URL, connect_args={\"check_same_thread\": False}\n",
    ")\n",
    "SessionLocal = sessionmaker(autocommit=False, autoflush=False, bind=engine)\n",
    "\n",
    "Base = declarative_base()\n",
    "\n",
    "def get_db():\n",
    "    db = SessionLocal()\n",
    "    try:\n",
    "        yield db\n",
    "    finally:\n",
    "        db.close()\n"
   ]
  },
  {
   "cell_type": "code",
   "execution_count": 32,
   "id": "49ab47b8",
   "metadata": {},
   "outputs": [],
   "source": [
    "from fastapi import APIRouter, Depends\n",
    "from sqlalchemy.orm import Session\n",
    "\n",
    "# from database import get_db\n",
    "from models import Question\n",
    "\n",
    "router = APIRouter(\n",
    "    prefix=\"/api/question\",\n",
    ")\n",
    "\n",
    "@router.get(\"/list\")\n",
    "def question_list(db: Session = Depends(get_db)):\n",
    "    questions = db.query(Question).order_by(Question.create_date.desc()).all()            \n",
    "    return questions\n"
   ]
  },
  {
   "cell_type": "markdown",
   "id": "43742450",
   "metadata": {},
   "source": [
    "### 파이썬 타입 어노테이션\n",
    "- https://wikidocs.net/134883"
   ]
  },
  {
   "cell_type": "code",
   "execution_count": 33,
   "id": "ae7fe004",
   "metadata": {},
   "outputs": [
    {
     "name": "stderr",
     "output_type": "stream",
     "text": [
      "INFO:     Started server process [1594]\n",
      "INFO:     Waiting for application startup.\n",
      "INFO:     Application startup complete.\n",
      "INFO:     Uvicorn running on http://127.0.0.1:8000 (Press CTRL+C to quit)\n"
     ]
    },
    {
     "name": "stdout",
     "output_type": "stream",
     "text": [
      "INFO:     127.0.0.1:50712 - \"GET /docs HTTP/1.1\" 200 OK\n",
      "INFO:     127.0.0.1:50712 - \"GET /openapi.json HTTP/1.1\" 200 OK\n",
      "INFO:     127.0.0.1:50712 - \"GET /api/question/list HTTP/1.1\" 200 OK\n"
     ]
    },
    {
     "name": "stderr",
     "output_type": "stream",
     "text": [
      "INFO:     Shutting down\n",
      "INFO:     Waiting for application shutdown.\n",
      "INFO:     Application shutdown complete.\n",
      "INFO:     Finished server process [1594]\n"
     ]
    }
   ],
   "source": [
    "import uvicorn\n",
    "uvicorn.run(app)"
   ]
  },
  {
   "cell_type": "markdown",
   "id": "80f91110",
   "metadata": {},
   "source": [
    "### 테스트\n",
    "- http://127.0.0.1:8000/docs"
   ]
  },
  {
   "cell_type": "markdown",
   "id": "3b9b379c",
   "metadata": {},
   "source": [
    "# 스키마 (Pydantic)\n",
    "- 모든 항목이 출력으로 리턴되지만 외부로 공개되면 안되는 출력항목이 있을 수 있습니다.\n",
    "- 출력값이 정확한지 검증하고 싶을 수도 있습니다.\n",
    "\n",
    "- 입출력 항목의 갯수와 타입을 설정\n",
    "- 입출력 항목의 필수값 체크\n",
    "- 입출력 항목의 데이터 검증"
   ]
  },
  {
   "cell_type": "code",
   "execution_count": 37,
   "id": "7ac7b800",
   "metadata": {},
   "outputs": [],
   "source": [
    "import datetime\n",
    "from pydantic import BaseModel\n",
    "\n",
    "class Question(BaseModel):\n",
    "    id: int\n",
    "    subject: str\n",
    "    content: str\n",
    "    create_date: datetime.datetime\n"
   ]
  },
  {
   "cell_type": "code",
   "execution_count": 38,
   "id": "58be7931",
   "metadata": {},
   "outputs": [],
   "source": [
    "from fastapi import APIRouter, Depends\n",
    "from sqlalchemy.orm import Session\n",
    "\n",
    "#from database import get_db\n",
    "from domain.question import question_schema\n",
    "from models import Question\n",
    "\n",
    "router = APIRouter(\n",
    "    prefix=\"/api/question\",\n",
    ")\n",
    "\n",
    "@router.get(\"/list\", response_model=list[question_schema.Question])\n",
    "def question_list(db: Session = Depends(get_db)):\n",
    "    questions = db.query(Question).order_by(Question.create_date.desc()).all()            \n",
    "    return questions\n"
   ]
  },
  {
   "cell_type": "code",
   "execution_count": 39,
   "id": "a1fdbbf6",
   "metadata": {},
   "outputs": [],
   "source": [
    "from models import Question\n",
    "from sqlalchemy.orm import Session\n",
    "\n",
    "def get_question_list(db: Session):\n",
    "    question_list = db.query(Question).order_by(Question.create_date.desc()).all()\n",
    "    return question_list        \n",
    "    "
   ]
  },
  {
   "cell_type": "code",
   "execution_count": 41,
   "id": "8a37c9dd",
   "metadata": {},
   "outputs": [],
   "source": [
    "from fastapi import APIRouter, Depends\n",
    "from sqlalchemy.orm import Session\n",
    "\n",
    "# from database import get_db\n",
    "from domain.question import question_schema, question_crud\n",
    "\n",
    "router = APIRouter(\n",
    "    prefix=\"/api/question\",\n",
    ")\n",
    "\n",
    "@router.get(\"/list\", response_model=list[question_schema.Question])\n",
    "def question_list(db: Session = Depends(get_db)):\n",
    "    questions = question_crud.get_question_list(db)            \n",
    "    return questions\n"
   ]
  },
  {
   "cell_type": "code",
   "execution_count": 43,
   "id": "a456b8f9",
   "metadata": {},
   "outputs": [
    {
     "name": "stderr",
     "output_type": "stream",
     "text": [
      "INFO:     Started server process [1594]\n",
      "INFO:     Waiting for application startup.\n",
      "INFO:     Application startup complete.\n",
      "INFO:     Uvicorn running on http://127.0.0.1:8000 (Press CTRL+C to quit)\n"
     ]
    },
    {
     "name": "stdout",
     "output_type": "stream",
     "text": [
      "INFO:     127.0.0.1:51157 - \"GET /docs HTTP/1.1\" 200 OK\n",
      "INFO:     127.0.0.1:51157 - \"GET /openapi.json HTTP/1.1\" 200 OK\n",
      "INFO:     127.0.0.1:51157 - \"GET /api/question/list HTTP/1.1\" 200 OK\n"
     ]
    },
    {
     "name": "stderr",
     "output_type": "stream",
     "text": [
      "INFO:     Shutting down\n",
      "INFO:     Waiting for application shutdown.\n",
      "INFO:     Application shutdown complete.\n",
      "INFO:     Finished server process [1594]\n"
     ]
    }
   ],
   "source": [
    "import uvicorn\n",
    "uvicorn.run(app)"
   ]
  },
  {
   "cell_type": "markdown",
   "id": "c6ecf8de",
   "metadata": {},
   "source": [
    "### 테스트\n",
    "- http://127.0.0.1:8000/docs"
   ]
  },
  {
   "cell_type": "markdown",
   "id": "06573ed0",
   "metadata": {},
   "source": [
    "# SVELTE\n",
    "- https://svelte.dev\n",
    "\n",
    "- node.js 설치\n",
    "\n",
    "- svelte project \n",
    "```shell\n",
    "npm create vite@latest frontend -- --template svelte\n",
    "cd ./frontend\n",
    "npm install\n",
    "```"
   ]
  },
  {
   "cell_type": "markdown",
   "id": "d44f30f1",
   "metadata": {},
   "source": [
    "- 자바스크립트 타입 체크 설정 끄기  \n",
    "스펠트는 자바스크립트 타입을 체크하는 것이 디폴트로 설정되어 있습니다.  \n",
    "타입스크립트를 사용하지 않으면 해당 설정을 끄고 진행하도록 합니다.  "
   ]
  },
  {
   "cell_type": "markdown",
   "id": "c376f21d",
   "metadata": {},
   "source": [
    "```json\n",
    "{\n",
    "  \"compilerOptions\": {    \n",
    "    /**\n",
    "     * Typecheck JS in `.svelte` and `.js` files by default.\n",
    "     * Disable this if you'd like to use dynamic types.\n",
    "     */\n",
    "    \"checkJs\": false\n",
    "  },  \n",
    "}\n",
    "```"
   ]
  },
  {
   "cell_type": "markdown",
   "id": "f57b78ce",
   "metadata": {},
   "source": [
    "# svelte 서버 실행\n",
    "\n",
    "```shell\n",
    "npm run dev\n",
    "```"
   ]
  },
  {
   "cell_type": "markdown",
   "id": "a1098abd",
   "metadata": {},
   "source": [
    "### 프론트엔드 서버가 필요한 이유\n",
    "- Svelte로 작성한 코드를 실시간으로 테스트 하려면, 브라우저가 인식할 수 있는 HTML, CSS, JS로 실시간 변환해주는 기능이 필요합니다.\n",
    "- 코드를 빌드하면 순수 HTML/CSS/JS가 만들어지므로 FastAPI서버에 정적 파일 형태로 배포하면 되므로, Node.js 서버가 필요 없습니다."
   ]
  },
  {
   "cell_type": "code",
   "execution_count": null,
   "id": "5458e88b",
   "metadata": {
    "vscode": {
     "languageId": "html"
    }
   },
   "outputs": [],
   "source": [
    "<script>\n",
    "  let question_list = [];\n",
    "\n",
    "  async function get_question_list() {\n",
    "    const response = await fetch('http://127.0.0.1:8000/api/question/list')\n",
    "    if (response.ok) {\n",
    "      const data = await response.json();\n",
    "      question_list = data;\n",
    "    } else {\n",
    "      console.error('Failed to fetch question list');\n",
    "    }      \n",
    "  }\n",
    "\n",
    "  get_question_list();\n",
    "\n",
    "</script>\n",
    "\n",
    "<ul>\n",
    "  {#each question_list as question}\n",
    "    <li>{question.subject}</li>\n",
    "  {/each}\n",
    "</ul>"
   ]
  },
  {
   "cell_type": "markdown",
   "id": "523a40af",
   "metadata": {},
   "source": [
    "- question_list를 최초 빈 리스트인 []으로 초기값을 주지 않을 경우 비동기인 fetch함수가 요청하는 중에 HTML영역의 each문이 실행되고 question_list에 값이 없어 오류가 발생합니다.\n",
    "- 반복문과 함께 사용할 경우 해당 값을 빈 리스트로 초기화 하는 것이 좋습니다.\n",
    "- Svelte 특징중 하나 \"Truly reactive\""
   ]
  },
  {
   "cell_type": "markdown",
   "id": "15e7e946",
   "metadata": {},
   "source": [
    "# Svelte 필수 문법\n",
    "## 분기문\n",
    "```svelte\n",
    "{#if 조건문1}\n",
    "    <p>조건문1에 해당하면 실행</p>\n",
    "{:else if 조건문2}\n",
    "    <p>조건문2에 해당하면 실행</p>\n",
    "{:else}\n",
    "    <p>조건문1, 2 모두 해당하지 않으면 실행</p>\n",
    "{/if}\n",
    "```\n",
    "\n",
    "## 반복문\n",
    "```svelte\n",
    "{#each list as item, index}\n",
    "    <p>순서: {index} </p>\n",
    "    <p>{item}</p>\n",
    "{/each}\n",
    "```\n",
    "\n",
    "## 객체표시\n",
    "```svelte\n",
    "{객체}\n",
    "{객체.속성}\n",
    "```"
   ]
  },
  {
   "cell_type": "markdown",
   "id": "b115369a",
   "metadata": {},
   "source": [
    "- svelte SPA를 구현할때 svelte-spa-router를 사용하면 됩니다.\n",
    "- svelte-spa-router는 Svelte로 작성된 싱글 페이지 애플리케이션(SPA)을 위한 라우터 라이브러리입니다. React Router나 Vue Router와 유사한 기능을 하며, URL 경로에 따라 다른 Svelte 컴포넌트를 렌더링하도록 도와줍니다.\n",
    "- https://github.com/ItalyPaleAle/svelte-spa-router"
   ]
  },
  {
   "cell_type": "markdown",
   "id": "147b1792",
   "metadata": {},
   "source": [
    "- 설치\n",
    "```bash\n",
    "npm install svelte-spa-router\n",
    "```\n"
   ]
  },
  {
   "cell_type": "markdown",
   "id": "d30f4bac",
   "metadata": {},
   "source": [
    "- 라우터 설정(예)\n",
    "```svelte\n",
    "<!-- App.svelte -->\n",
    "<script>\n",
    "  import Router from 'svelte-spa-router';\n",
    "  import Home from './routes/Home.svelte';\n",
    "  import About from './routes/About.svelte';\n",
    "\n",
    "  const routes = {\n",
    "    '/': Home,\n",
    "    '/about': About\n",
    "  };\n",
    "</script>\n",
    "\n",
    "<Router {routes} />\n",
    "```"
   ]
  },
  {
   "cell_type": "markdown",
   "id": "f47df9ef",
   "metadata": {},
   "source": [
    "# 질문 상세 링크 추가하기\n",
    "- a 태그에 use:link 속성을 사용하기 위해 link를 import를 했습니다.\n",
    "```svelte\n",
    "<script>\n",
    "    import fastapi from \"../lib/api\"\n",
    "    import { link } from 'svelte-spa-router'\n",
    "\n",
    "    let question_list = []\n",
    "\n",
    "    fastapi('get', '/api/question/list', {}, (json) => {\n",
    "        question_list = json\n",
    "    })\n",
    "</script>\n",
    "\n",
    "<ul>\n",
    "    {#each question_list as question}\n",
    "        <li><a use:link href=\"/detail/{question.id}\">{question.subject}</a></li>\n",
    "    {/each}\n",
    "</ul>\n",
    "```"
   ]
  },
  {
   "cell_type": "markdown",
   "id": "0c434a64",
   "metadata": {},
   "source": [
    "## a 태그에 use:link를 사용하는 이유\n",
    "- a 태그를 사용하는 일반적인 방법은 다음과 같습니다.\n",
    "```html\n",
    "<a href=\"/some-path\">Some Path</a>\n",
    "```\n",
    "- 위와 같은 링크를 클릭하면 브라우저 주소창에 다음과 같이 표시됩니다.\n",
    "```\n",
    "http://127.0.0.1:5173/some-path\n",
    "```\n",
    "- 이번에는 다음처럼 a 태그에 use:link를 사용해봅니다.\n",
    "```html\n",
    "<a use:link href=\"/some-path\">Some Path</a>\n",
    "```\n",
    "```\n",
    "http://127.0.0.1:5173/#/some-path\n",
    "```\n",
    "- use:link속성을 사용하면 항상 /# 문자가 선행되도록 경로가 만들어집니다.\n",
    "- 웹 페이지에서 어떤 경로가 /#으로 시작하면 브라우저는 이 경로를 하나의 페이지로 인식합니다.\n",
    "- 즉 브라우저는 http://127.0.0.1:5173/#/a, http://127.0.0.1:5173/#/b 두개의 경로를 모두 동일한 페이지로 인식한다는 점입니다.\n",
    "- 이러한 것을 해시 기반 라우팅이라고 합니다.\n",
    "\n",
    "## 왜 해시 기반 라우팅을 사용하는 것을까요?\n",
    "- /# 으로 시작할 경우 서버로 요청 보내지 않습니다. \n",
    "- 만약 클라이언트에만 존재하는 라우팅 주소는 서버에 없기 때문에 404 NotFound 오류가 발생하지 않습니다."
   ]
  },
  {
   "cell_type": "markdown",
   "id": "57cea803",
   "metadata": {},
   "source": [
    "###  FastAPI 스키마 작성시 검증"
   ]
  },
  {
   "cell_type": "code",
   "execution_count": 4,
   "id": "3d6cd0c2",
   "metadata": {},
   "outputs": [
    {
     "ename": "ValidationError",
     "evalue": "1 validation error for AnswerCreate\ncontent\n  Value error, 빈 값은 허용되지 않습니다. [type=value_error, input_value=' ', input_type=str]\n    For further information visit https://errors.pydantic.dev/2.11/v/value_error",
     "output_type": "error",
     "traceback": [
      "\u001b[31m---------------------------------------------------------------------------\u001b[39m",
      "\u001b[31mValidationError\u001b[39m                           Traceback (most recent call last)",
      "\u001b[36mCell\u001b[39m\u001b[36m \u001b[39m\u001b[32mIn[4]\u001b[39m\u001b[32m, line 12\u001b[39m\n\u001b[32m      9\u001b[39m             \u001b[38;5;28;01mraise\u001b[39;00m \u001b[38;5;167;01mValueError\u001b[39;00m(\u001b[33m'\u001b[39m\u001b[33m빈 값은 허용되지 않습니다.\u001b[39m\u001b[33m'\u001b[39m)\n\u001b[32m     10\u001b[39m         \u001b[38;5;28;01mreturn\u001b[39;00m v\n\u001b[32m---> \u001b[39m\u001b[32m12\u001b[39m answer = \u001b[43mAnswerCreate\u001b[49m\u001b[43m(\u001b[49m\u001b[43mcontent\u001b[49m\u001b[43m=\u001b[49m\u001b[33;43m'\u001b[39;49m\u001b[33;43m \u001b[39;49m\u001b[33;43m'\u001b[39;49m\u001b[43m)\u001b[49m\n",
      "\u001b[36mFile \u001b[39m\u001b[32m~/study/fastapi_study/.venv/lib/python3.13/site-packages/pydantic/main.py:253\u001b[39m, in \u001b[36mBaseModel.__init__\u001b[39m\u001b[34m(self, **data)\u001b[39m\n\u001b[32m    251\u001b[39m \u001b[38;5;66;03m# `__tracebackhide__` tells pytest and some other tools to omit this function from tracebacks\u001b[39;00m\n\u001b[32m    252\u001b[39m __tracebackhide__ = \u001b[38;5;28;01mTrue\u001b[39;00m\n\u001b[32m--> \u001b[39m\u001b[32m253\u001b[39m validated_self = \u001b[38;5;28;43mself\u001b[39;49m\u001b[43m.\u001b[49m\u001b[43m__pydantic_validator__\u001b[49m\u001b[43m.\u001b[49m\u001b[43mvalidate_python\u001b[49m\u001b[43m(\u001b[49m\u001b[43mdata\u001b[49m\u001b[43m,\u001b[49m\u001b[43m \u001b[49m\u001b[43mself_instance\u001b[49m\u001b[43m=\u001b[49m\u001b[38;5;28;43mself\u001b[39;49m\u001b[43m)\u001b[49m\n\u001b[32m    254\u001b[39m \u001b[38;5;28;01mif\u001b[39;00m \u001b[38;5;28mself\u001b[39m \u001b[38;5;129;01mis\u001b[39;00m \u001b[38;5;129;01mnot\u001b[39;00m validated_self:\n\u001b[32m    255\u001b[39m     warnings.warn(\n\u001b[32m    256\u001b[39m         \u001b[33m'\u001b[39m\u001b[33mA custom validator is returning a value other than `self`.\u001b[39m\u001b[38;5;130;01m\\n\u001b[39;00m\u001b[33m'\u001b[39m\n\u001b[32m    257\u001b[39m         \u001b[33m\"\u001b[39m\u001b[33mReturning anything other than `self` from a top level model validator isn\u001b[39m\u001b[33m'\u001b[39m\u001b[33mt supported when validating via `__init__`.\u001b[39m\u001b[38;5;130;01m\\n\u001b[39;00m\u001b[33m\"\u001b[39m\n\u001b[32m    258\u001b[39m         \u001b[33m'\u001b[39m\u001b[33mSee the `model_validator` docs (https://docs.pydantic.dev/latest/concepts/validators/#model-validators) for more details.\u001b[39m\u001b[33m'\u001b[39m,\n\u001b[32m    259\u001b[39m         stacklevel=\u001b[32m2\u001b[39m,\n\u001b[32m    260\u001b[39m     )\n",
      "\u001b[31mValidationError\u001b[39m: 1 validation error for AnswerCreate\ncontent\n  Value error, 빈 값은 허용되지 않습니다. [type=value_error, input_value=' ', input_type=str]\n    For further information visit https://errors.pydantic.dev/2.11/v/value_error"
     ]
    }
   ],
   "source": [
    "from pydantic import BaseModel, field_validator\n",
    "\n",
    "class AnswerCreate(BaseModel):\n",
    "    content: str\n",
    "\n",
    "    @field_validator('content')\n",
    "    def not_empty(cls, v):\n",
    "        if not v or not v.strip():\n",
    "            raise ValueError('빈 값은 허용되지 않습니다.')\n",
    "        return v\n",
    "\n",
    "answer = AnswerCreate(content=' ')"
   ]
  },
  {
   "cell_type": "markdown",
   "id": "2b24a607",
   "metadata": {},
   "source": [
    "### 입력 항목을 처리하는 스키마는 왜 필요할까?\n",
    "- 답변 등록 API는 post방식이고 content라는 입력항목이 있습니다.\n",
    "- 답변 등록 라우터에서 content 값을 읽기 위해서는 반드시 content항목을 포함하는 Pydantic 스키마를 통해 읽어야 합니다.\n",
    "- get방식은 각각의 입력항목을 라우터 함수의 매개변수로 읽어야 하고, 그 외에는 Pydantic 스키마로만 읽어야 합니다.\n",
    "- HTTP 프로토콜의 URL에 포함된 입력 값(URL parameter)은 라우터의 스키마가 아닌 매개변수로 읽는다. (Path Parameter, Query Parameter)\n",
    "- HTTP 프로토콜의 Body에 포함된 입력 값(payload)은 Pydantic 스키마로 읽는다. (Request Body)"
   ]
  },
  {
   "cell_type": "markdown",
   "id": "89922bb7",
   "metadata": {},
   "source": [
    "- 출력은 response_model을 사용하는 대신 status_code=status.HTTP_204_NO_CONTENT 를 사용했다. 이렇게 리턴할 응답이 없을 경우에는 응답코드 204를 리턴하여 \"응답 없음\"을 나타낼 수 있다."
   ]
  },
  {
   "cell_type": "code",
   "execution_count": null,
   "id": "9c729acb",
   "metadata": {},
   "outputs": [],
   "source": [
    "from fastapi import APIRouter, Depends, HTTPException\n",
    "from sqlalchemy.orm import Session\n",
    "from starlette import status\n",
    "\n",
    "from database import get_db\n",
    "from domain.answer import answer_schema, answer_crud\n",
    "from domain.question import question_crud\n",
    "\n",
    "router = APIRouter(\n",
    "    prefix=\"/api/answer\",\n",
    ")\n",
    "\n",
    "# 출력은 response_model을 사용하는 대신 status_code=status.HTTP_204_NO_CONTENT 를 사용했다. 이렇게 리턴할 응답이 없을 경우에는 응답코드 204를 리턴하여 \"응답 없음\"을 나타낼 수 있다.\n",
    "@router.post(\"/create/{question_id}\", status_code=status.HTTP_204_NO_CONTENT)\n",
    "def answer_create(question_id: int,\n",
    "                  _answer_create: answer_schema.AnswerCreate,\n",
    "                  db: Session = Depends(get_db)):\n",
    "    question = question_crud.get_question(db, question_id)\n",
    "    if not question:\n",
    "        raise HTTPException(status_code=status.HTTP_404_NOT_FOUND,\n",
    "                            detail=\"질문이 존재하지 않습니다.\")\n",
    "    answer_crud.create_answer(db, question, _answer_create)\n",
    "\n",
    "\n"
   ]
  },
  {
   "cell_type": "markdown",
   "id": "3fb4a891",
   "metadata": {},
   "source": [
    "## 스벨트 스토어\n",
    "- 스벨트 스토어를 사용하면 변수 값을 전역적으로 저장할 수 있기 때문에 라우팅 되는 페이지에 상관없이 스토어에 저장된 변수를 사용할수 있습니다.\n",
    "- 스토어 변수는 사용시 앞에 $을 붙여야 합니다.\n",
    "- page -> $page"
   ]
  },
  {
   "cell_type": "markdown",
   "id": "3c374d27",
   "metadata": {},
   "source": [
    "## 지속성 스토어(persistant store)\n",
    "- localStorage를 사용하여 지속성을 지니게 합니다."
   ]
  },
  {
   "cell_type": "markdown",
   "id": "810b8044",
   "metadata": {},
   "source": [
    "- $: get_question_list($page)의 의미는 page 값이 변경될 경우 get_question_list 함수도 다시 호출하라는 의미입니다."
   ]
  },
  {
   "cell_type": "markdown",
   "id": "2b95b82a",
   "metadata": {},
   "source": [
    "## 시간 포맷을 사용할때\n",
    "https://momentjs.com/\n",
    "\n",
    "## 설치\n",
    "```shell\n",
    "npm install moment\n",
    "```"
   ]
  }
 ],
 "metadata": {
  "kernelspec": {
   "display_name": ".venv",
   "language": "python",
   "name": "python3"
  },
  "language_info": {
   "codemirror_mode": {
    "name": "ipython",
    "version": 3
   },
   "file_extension": ".py",
   "mimetype": "text/x-python",
   "name": "python",
   "nbconvert_exporter": "python",
   "pygments_lexer": "ipython3",
   "version": "3.13.3"
  }
 },
 "nbformat": 4,
 "nbformat_minor": 5
}
