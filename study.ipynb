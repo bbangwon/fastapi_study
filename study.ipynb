{
 "cells": [
  {
   "cell_type": "markdown",
   "id": "6a8994a1",
   "metadata": {},
   "source": [
    "nest_asyncio는 Python의 asyncio 라이브러리에서 이벤트 루프를 중첩해서 사용할 수 있도록 도와주는 라이브러리입니다.\n",
    "\n",
    "기본적으로 Python의 asyncio는 한 번 실행된 이벤트 루프를 다시 실행하려고 하면 오류를 발생시킵니다. 예를 들어, Jupyter Notebook 같은 환경에서는 이미 실행 중인 이벤트 루프가 있기 때문에, 새로운 비동기 작업을 실행하려고 하면 문제가 생길 수 있습니다.\n",
    "\n",
    "nest_asyncio는 이런 문제를 해결하기 위해 기존 이벤트 루프를 패치하여, 이미 실행 중인 이벤트 루프에서도 추가적인 비동기 작업을 실행할 수 있도록 만들어줍니다.\n",
    "\n",
    "간단한 비유:\n",
    "기본 asyncio: \"이미 도로에 차가 달리고 있으니, 새로운 차를 추가로 못 올려!\"\n",
    "nest_asyncio: \"도로를 확장해서 새로운 차도 추가로 달릴 수 있게 만들었어!\""
   ]
  },
  {
   "cell_type": "code",
   "execution_count": 13,
   "id": "9d65f28b",
   "metadata": {},
   "outputs": [],
   "source": [
    "import nest_asyncio\n",
    "nest_asyncio.apply()"
   ]
  },
  {
   "cell_type": "code",
   "execution_count": 15,
   "id": "a0724169",
   "metadata": {},
   "outputs": [
    {
     "name": "stderr",
     "output_type": "stream",
     "text": [
      "INFO:     Started server process [20589]\n",
      "INFO:     Waiting for application startup.\n",
      "INFO:     Application startup complete.\n",
      "INFO:     Uvicorn running on http://127.0.0.1:8000 (Press CTRL+C to quit)\n"
     ]
    },
    {
     "name": "stdout",
     "output_type": "stream",
     "text": [
      "INFO:     127.0.0.1:56097 - \"GET / HTTP/1.1\" 200 OK\n",
      "INFO:     127.0.0.1:56097 - \"GET / HTTP/1.1\" 200 OK\n",
      "INFO:     127.0.0.1:56097 - \"GET / HTTP/1.1\" 200 OK\n",
      "INFO:     127.0.0.1:56097 - \"GET /docs HTTP/1.1\" 200 OK\n",
      "INFO:     127.0.0.1:56099 - \"GET /openapi.json HTTP/1.1\" 200 OK\n",
      "INFO:     127.0.0.1:56102 - \"GET / HTTP/1.1\" 200 OK\n"
     ]
    },
    {
     "name": "stderr",
     "output_type": "stream",
     "text": [
      "INFO:     Shutting down\n",
      "INFO:     Waiting for application shutdown.\n",
      "INFO:     Application shutdown complete.\n",
      "INFO:     Finished server process [20589]\n"
     ]
    }
   ],
   "source": [
    "\n",
    "import uvicorn\n",
    "from fastapi import FastAPI\n",
    "\n",
    "app = FastAPI()\n",
    "\n",
    "@app.get(\"/\")\n",
    "def hello():\n",
    "    return {\"message\": \"Hello World\"}\n",
    "\n",
    "uvicorn.run(app)"
   ]
  },
  {
   "cell_type": "markdown",
   "id": "6fed6333",
   "metadata": {},
   "source": [
    "# Database 설정 파일 추가"
   ]
  },
  {
   "cell_type": "code",
   "execution_count": null,
   "id": "2845a8c5",
   "metadata": {},
   "outputs": [],
   "source": [
    "from sqlalchemy import create_engine\n",
    "from sqlalchemy.ext.declarative import declarative_base\n",
    "from sqlalchemy.orm import sessionmaker\n",
    "\n",
    "SQLALCHEMY_DATABASE_URL = \"sqlite:///./myapi.db\"\n",
    "\n",
    "engine = create_engine(\n",
    "    SQLALCHEMY_DATABASE_URL, connect_args={\"check_same_thread\": False}\n",
    ")\n",
    "SessionLocal = sessionmaker(autocommit=False, autoflush=False, bind=engine)\n",
    "\n",
    "Base = declarative_base()"
   ]
  },
  {
   "cell_type": "markdown",
   "id": "c9a466f6",
   "metadata": {},
   "source": [
    "이 코드는 Python의 SQLAlchemy 라이브러리를 사용하여 데이터베이스와 상호작용하기 위한 설정을 정의합니다. SQLAlchemy는 Python에서 데이터베이스 작업을 쉽게 처리할 수 있도록 도와주는 강력한 ORM(Object Relational Mapper) 도구입니다. 아래는 코드의 각 부분에 대한 설명입니다.\n",
    "\n",
    "---\n",
    "\n",
    "1. **필요한 모듈 임포트**  \n",
    "   첫 번째로, `sqlalchemy` 라이브러리에서 필요한 구성 요소를 가져옵니다.  \n",
    "   - `create_engine`: 데이터베이스와의 연결을 생성하는 데 사용됩니다.  \n",
    "   - `declarative_base`: ORM에서 데이터베이스 테이블을 Python 클래스와 매핑하기 위한 기본 클래스입니다.  \n",
    "   - `sessionmaker`: 데이터베이스 세션을 생성하고 관리하는 데 사용됩니다.\n",
    "\n",
    "---\n",
    "\n",
    "2. **데이터베이스 URL 설정**  \n",
    "   `SQLALCHEMY_DATABASE_URL` 변수는 데이터베이스 연결 문자열을 정의합니다. 여기서는 SQLite 데이터베이스를 사용하며, 파일 이름은 `myapi.db`입니다. SQLite는 파일 기반 데이터베이스로, 간단한 프로젝트에 적합합니다.\n",
    "\n",
    "---\n",
    "\n",
    "3. **데이터베이스 엔진 생성**  \n",
    "   `create_engine` 함수는 데이터베이스와의 연결을 처리하는 엔진 객체를 생성합니다.  \n",
    "   - `SQLALCHEMY_DATABASE_URL`을 사용하여 데이터베이스 위치를 지정합니다.  \n",
    "   - `connect_args={\"check_same_thread\": False}`는 SQLite에서 멀티스레드 환경에서도 동일한 연결을 사용할 수 있도록 설정합니다. 이는 SQLite의 기본 동작을 변경하는 옵션입니다.\n",
    "\n",
    "---\n",
    "\n",
    "4. **세션 로컬 생성**  \n",
    "   `SessionLocal`은 데이터베이스 세션을 생성하는 팩토리 함수입니다.  \n",
    "   - `autocommit=False`: 세션에서 변경 사항을 명시적으로 커밋해야 합니다.  \n",
    "   - `autoflush=False`: 세션이 자동으로 변경 사항을 데이터베이스에 반영하지 않습니다.  \n",
    "   - `bind=engine`: 이 세션이 위에서 생성한 데이터베이스 엔진과 연결되도록 설정합니다.\n",
    "\n",
    "---\n",
    "\n",
    "5. **기본 클래스 정의**  \n",
    "   `Base = declarative_base()`는 ORM에서 사용할 기본 클래스를 생성합니다. 이 클래스는 이후 데이터베이스 테이블과 매핑될 모든 모델 클래스의 부모 클래스 역할을 합니다.\n",
    "\n",
    "---\n",
    "\n",
    "이 코드는 데이터베이스와 상호작용하기 위한 기본 설정을 정의하며, 이후 데이터베이스 모델을 생성하거나 데이터를 삽입/조회하는 데 사용됩니다. 이 구조는 SQLAlchemy를 사용하는 대부분의 프로젝트에서 공통적으로 사용되는 초기 설정입니다."
   ]
  },
  {
   "cell_type": "code",
   "execution_count": null,
   "id": "4e4d5de6",
   "metadata": {},
   "outputs": [],
   "source": [
    "from sqlalchemy import Column, Integer, String, Text, DateTime, ForeignKey\n",
    "from sqlalchemy.orm import relationship\n",
    "\n",
    "class Question(Base):\n",
    "    __tablename__ = \"questions\"\n",
    "\n",
    "    id = Column(Integer, primary_key=True)\n",
    "    subject = Column(String, nullable=False)\n",
    "    content = Column(Text, nullable=False)\n",
    "    create_date = Column(DateTime, nullable=False)\n",
    "\n",
    "class Answer(Base):\n",
    "    __tablename__ = \"answers\"\n",
    "\n",
    "    id = Column(Integer, primary_key=True)\n",
    "    content = Column(Text, nullable=False)\n",
    "    create_date = Column(DateTime, nullable=False)\n",
    "    question_id = Column(Integer, ForeignKey(\"questions.id\"))\n",
    "    question = relationship(\"Question\", backref=\"answers\")\n",
    "    "
   ]
  },
  {
   "cell_type": "markdown",
   "id": "a3bf8e93",
   "metadata": {},
   "source": [
    "위의 코드는 SQLAlchemy를 사용하여 데이터베이스 테이블과 열(column), 그리고 외래 키(foreign key)를 정의하고 관리하는 데 필요한 클래스와 함수들을 포함하고 있습니다. SQLAlchemy는 Python에서 데이터베이스와 상호작용하기 위한 강력한 ORM(Object Relational Mapping) 라이브러리로, 이 코드는 데이터베이스 테이블의 스키마를 정의하고 관계를 설정하는 데 사용됩니다.\n",
    "\n",
    "### `Answer` 클래스\n",
    "`Answer` 클래스는 SQLAlchemy의 ORM을 사용하여 데이터베이스 테이블을 정의한 예입니다. 이 클래스는 `Base` 클래스를 상속받으며, `__tablename__` 속성을 통해 데이터베이스 테이블 이름을 `\"answers\"`로 지정합니다. 이 클래스는 다음과 같은 열을 정의합니다:\n",
    "- `id`: 기본 키로 사용되는 정수형 열.\n",
    "- `content`: 텍스트 데이터를 저장하며, `nullable=False`로 설정되어 있어 값이 반드시 있어야 합니다.\n",
    "- `create_date`: 답변이 생성된 날짜와 시간을 저장하는 `DateTime` 열.\n",
    "- `question_id`: 외래 키로, `\"questions\"` 테이블의 `id` 열을 참조합니다.\n",
    "- `question`: `relationship`을 통해 `Question` 클래스와의 관계를 설정하며, `backref`를 사용하여 `answers`라는 역참조를 제공합니다.\n",
    "\n",
    "### `relationship` 함수\n",
    "`relationship` 함수는 SQLAlchemy에서 두 테이블 간의 관계를 정의하는 데 사용됩니다. 이 함수는 부모-자식 관계 또는 다대다 관계를 설정할 수 있습니다. 예를 들어, `Answer` 클래스에서 `question` 속성은 `Question` 클래스와의 관계를 나타냅니다. `backref` 매개변수를 통해 `Question` 클래스에서 `answers`라는 속성을 자동으로 생성하여 양방향 관계를 설정합니다. 이 함수는 다양한 매개변수를 지원하며, 관계의 로딩 전략(`lazy`), 삭제 시 동작(`cascade`), 정렬 순서(`order_by`) 등을 세부적으로 제어할 수 있습니다.\n",
    "\n",
    "### `Column` 클래스\n",
    "`Column` 클래스는 데이터베이스 테이블의 열을 나타냅니다. 이 클래스는 열의 이름, 데이터 타입, 기본값, 고유성, 인덱스 여부 등을 정의할 수 있습니다. 예를 들어, `id` 열은 `primary_key=True`로 설정되어 기본 키로 지정되며, `content` 열은 `nullable=False`로 설정되어 값이 반드시 필요합니다. 또한, `ForeignKey` 객체를 사용하여 다른 테이블의 열을 참조할 수 있습니다.\n",
    "\n",
    "### `ForeignKey` 클래스\n",
    "`ForeignKey` 클래스는 열 간의 외래 키 관계를 정의합니다. 예를 들어, `question_id` 열은 `ForeignKey(\"questions.id\")`를 통해 `\"questions\"` 테이블의 `id` 열을 참조합니다. 이 클래스는 외래 키 제약 조건을 설정하며, `ondelete`, `onupdate`와 같은 매개변수를 통해 삭제 및 업데이트 시의 동작을 제어할 수 있습니다.\n",
    "\n",
    "### 주요 동작\n",
    "이 코드의 주요 동작은 데이터베이스 테이블과 열을 정의하고, 테이블 간의 관계를 설정하며, 외래 키를 통해 참조 무결성을 유지하는 것입니다. SQLAlchemy는 이러한 정의를 기반으로 데이터베이스 스키마를 생성하거나, ORM을 통해 Python 객체와 데이터베이스 간의 매핑을 제공합니다. 이를 통해 개발자는 SQL 쿼리를 직접 작성하지 않고도 데이터베이스와 상호작용할 수 있습니다."
   ]
  },
  {
   "cell_type": "markdown",
   "id": "6fec50dc",
   "metadata": {},
   "source": [
    "# alembic\n",
    "Alembic은 Python의 데이터베이스 마이그레이션 도구로, SQLAlchemy와 함께 사용하여 데이터베이스 스키마를 관리하고 버전 관리를 수행할 수 있습니다."
   ]
  },
  {
   "cell_type": "markdown",
   "id": "076c651d",
   "metadata": {},
   "source": [
    "아래 파일들을 수정합니다.\n",
    "\n",
    "[alembic.ini]\n",
    "sqlalchemy.url = sqlite:///./myapi.db\n",
    "\n",
    "[migrations/env.py]\n",
    "import models\n",
    "\n",
    "target_metadata = models.Base.metadata"
   ]
  },
  {
   "cell_type": "markdown",
   "id": "b260813c",
   "metadata": {},
   "source": [
    "### 마이그레이션 파일 생성\n",
    "새로운 데이터베이스 변경 사항(예: 테이블 추가, 수정)을 반영하기 위해 마이그레이션 파일을 생성합니다.\n",
    "\n",
    "--autogenerate 옵션은 SQLAlchemy의 Base.metadata를 기반으로 변경 사항을 자동으로 감지합니다.\n",
    "생성된 파일은 versions/ 디렉토리에 저장됩니다.\n",
    "\n",
    "alembic revision --autogenerate\n",
    "\n",
    "### 리비전 파일 실행\n",
    "\n",
    "alembic upgrade head"
   ]
  },
  {
   "cell_type": "code",
   "execution_count": 16,
   "id": "b0b0f661",
   "metadata": {},
   "outputs": [],
   "source": [
    "from models import Question, Answer\n",
    "from datetime import datetime\n",
    "from database import SessionLocal\n",
    "\n",
    "db = SessionLocal()"
   ]
  },
  {
   "cell_type": "code",
   "execution_count": 17,
   "id": "cc32a3bb",
   "metadata": {},
   "outputs": [
    {
     "data": {
      "text/plain": [
       "1"
      ]
     },
     "execution_count": 17,
     "metadata": {},
     "output_type": "execute_result"
    }
   ],
   "source": [
    "# 데이터 넣기\n",
    "q = Question(subject='pybo가 무엇인가요?', content='pybo에 대해서 알고 싶습니다.', create_date=datetime.now())\n",
    "db.add(q)\n",
    "db.commit()\n",
    "\n",
    "q.id"
   ]
  },
  {
   "cell_type": "code",
   "execution_count": 18,
   "id": "584d34ef",
   "metadata": {},
   "outputs": [
    {
     "data": {
      "text/plain": [
       "2"
      ]
     },
     "execution_count": 18,
     "metadata": {},
     "output_type": "execute_result"
    }
   ],
   "source": [
    "q = Question(subject='FastAPI 모델 질문입니다.', content='id는 자동으로 생성되나요?', create_date=datetime.now())\n",
    "db.add(q)\n",
    "db.commit()\n",
    "\n",
    "q.id"
   ]
  },
  {
   "cell_type": "code",
   "execution_count": 19,
   "id": "9fa8b979",
   "metadata": {},
   "outputs": [
    {
     "data": {
      "text/plain": [
       "[<models.Question at 0x10e60a450>, <models.Question at 0x10da1ac40>]"
      ]
     },
     "execution_count": 19,
     "metadata": {},
     "output_type": "execute_result"
    }
   ],
   "source": [
    "# 데이터 조회하기\n",
    "db.query(Question).all()"
   ]
  },
  {
   "cell_type": "code",
   "execution_count": 20,
   "id": "baf15635",
   "metadata": {},
   "outputs": [
    {
     "data": {
      "text/plain": [
       "[<models.Question at 0x10e60a450>]"
      ]
     },
     "execution_count": 20,
     "metadata": {},
     "output_type": "execute_result"
    }
   ],
   "source": [
    "# filter 함수 이용한 질문\n",
    "db.query(Question).filter(Question.id == 1).all()"
   ]
  },
  {
   "cell_type": "code",
   "execution_count": 21,
   "id": "b06d9e83",
   "metadata": {},
   "outputs": [
    {
     "data": {
      "text/plain": [
       "<models.Question at 0x10e60a450>"
      ]
     },
     "execution_count": 21,
     "metadata": {},
     "output_type": "execute_result"
    }
   ],
   "source": [
    "# id는 유일한 값이므로 get 함수를 이용해 조회할 수도 있음\n",
    "db.get(Question, 1)"
   ]
  },
  {
   "cell_type": "code",
   "execution_count": 22,
   "id": "a126bd31",
   "metadata": {},
   "outputs": [
    {
     "data": {
      "text/plain": [
       "[<models.Question at 0x10da1ac40>]"
      ]
     },
     "execution_count": 22,
     "metadata": {},
     "output_type": "execute_result"
    }
   ],
   "source": [
    "# Like 검색\n",
    "db.query(Question).filter(Question.subject.like('%FastAPI%')).all()"
   ]
  },
  {
   "cell_type": "markdown",
   "id": "4d940d86",
   "metadata": {},
   "source": [
    "- 데이터를 조회하는 다양한 사용법\n",
    "- https://docs.sqlalchemy.org/en/14/orm/query.html"
   ]
  },
  {
   "cell_type": "code",
   "execution_count": 23,
   "id": "752e00e7",
   "metadata": {},
   "outputs": [],
   "source": [
    "# 데이터 수정하기\n",
    "q = db.get(Question, 2)\n",
    "q.subject = 'FastAPI Model Question'\n",
    "db.commit()\n"
   ]
  },
  {
   "cell_type": "code",
   "execution_count": 24,
   "id": "db5d59ca",
   "metadata": {},
   "outputs": [],
   "source": [
    "# 데이터 삭제하기\n",
    "q = db.get(Question, 1)\n",
    "db.delete(q)\n",
    "db.commit()"
   ]
  },
  {
   "cell_type": "code",
   "execution_count": 25,
   "id": "bdbaab92",
   "metadata": {},
   "outputs": [
    {
     "data": {
      "text/plain": [
       "[<models.Question at 0x10da1ac40>]"
      ]
     },
     "execution_count": 25,
     "metadata": {},
     "output_type": "execute_result"
    }
   ],
   "source": [
    "db.query(Question).all()"
   ]
  },
  {
   "cell_type": "code",
   "execution_count": 26,
   "id": "7362493f",
   "metadata": {},
   "outputs": [],
   "source": [
    "# 답변 데이터 저장하기\n",
    "q = db.get(Question, 2)\n",
    "a = Answer(question=q, content='네 자동으로 생성됩니다.', create_date=datetime.now())\n",
    "db.add(a)\n",
    "db.commit()"
   ]
  },
  {
   "cell_type": "code",
   "execution_count": 27,
   "id": "4bc5312a",
   "metadata": {},
   "outputs": [
    {
     "data": {
      "text/plain": [
       "1"
      ]
     },
     "execution_count": 27,
     "metadata": {},
     "output_type": "execute_result"
    }
   ],
   "source": [
    "a.id"
   ]
  },
  {
   "cell_type": "code",
   "execution_count": 28,
   "id": "329613cf",
   "metadata": {},
   "outputs": [
    {
     "data": {
      "text/plain": [
       "<models.Question at 0x10da1ac40>"
      ]
     },
     "execution_count": 28,
     "metadata": {},
     "output_type": "execute_result"
    }
   ],
   "source": [
    "a.question"
   ]
  },
  {
   "cell_type": "code",
   "execution_count": 29,
   "id": "9d850998",
   "metadata": {},
   "outputs": [
    {
     "data": {
      "text/plain": [
       "[<models.Answer at 0x10da1a9e0>]"
      ]
     },
     "execution_count": 29,
     "metadata": {},
     "output_type": "execute_result"
    }
   ],
   "source": [
    "q.answers"
   ]
  }
 ],
 "metadata": {
  "kernelspec": {
   "display_name": ".venv",
   "language": "python",
   "name": "python3"
  },
  "language_info": {
   "codemirror_mode": {
    "name": "ipython",
    "version": 3
   },
   "file_extension": ".py",
   "mimetype": "text/x-python",
   "name": "python",
   "nbconvert_exporter": "python",
   "pygments_lexer": "ipython3",
   "version": "3.13.3"
  }
 },
 "nbformat": 4,
 "nbformat_minor": 5
}
